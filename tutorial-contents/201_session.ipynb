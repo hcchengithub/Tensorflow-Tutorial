{
 "cells": [
  {
   "cell_type": "markdown",
   "metadata": {},
   "source": [
    "# 介紹 TensorFlow 的基本元件 op , constant , session\n",
    "When I read \"TensorFlow in a Nutshell\" series article (Ynote: \"TensorFlow in a Nutshell — Part One Two Three–Camron's Blog\") I feel the need to review Morvan's tf. So I do it now but with jupyter notebook."
   ]
  },
  {
   "cell_type": "code",
   "execution_count": null,
   "metadata": {},
   "outputs": [],
   "source": [
    "import peforth"
   ]
  },
  {
   "cell_type": "code",
   "execution_count": null,
   "metadata": {},
   "outputs": [],
   "source": [
    "%%f if playing in jupyter notebook \n",
    "\\ Now we redefine the 'unknown' command that does nothing at default  \n",
    ": unknown ( token -- thing Y|N) // Try to find the unknown token in __main__\n",
    "  py> getattr(sys.modules['__main__'],pop(),\"Ûnknôwn\") \n",
    "  py> str(tos())==\"Ûnknôwn\" if drop false else true then ;\n",
    "  /// here after, when FORTH come accross an unknown token, instead of alerting \n",
    "  /// it try to find the token in python __main__ module name space.\n",
    ": path-to-find-modules ( <path> -- ) // Add path to sys.path so \"import module-name\" can find the module\n",
    "    CR word trim ( \"path\" ) py: sys.path.append(pop()) ;\n",
    "code # print(nexttoken('\\n')) end-code // Redefine \\ command to print the comment line \n"
   ]
  },
  {
   "cell_type": "code",
   "execution_count": null,
   "metadata": {},
   "outputs": [],
   "source": [
    "\"\"\"\n",
    "Know more, visit my Python tutorial page: https://morvanzhou.github.io/tutorials/\n",
    "My Youtube Channel: https://www.youtube.com/user/MorvanZhou\n",
    "\n",
    "Dependencies:\n",
    "tensorflow: 1.1.0\n",
    "\n",
    "這是修訂版的第一課，先介紹 tf 的 constant ，這個教法很好。\n",
    "\n",
    "\"\"\"\n",
    "import tensorflow as tf"
   ]
  },
  {
   "cell_type": "code",
   "execution_count": null,
   "metadata": {},
   "outputs": [],
   "source": [
    "m1 = tf.constant([[2, 2]])\n",
    "m2 = tf.constant([[3],\n",
    "                  [3]])\n",
    "dot_operation = tf.matmul(m1, m2)"
   ]
  },
  {
   "cell_type": "code",
   "execution_count": null,
   "metadata": {},
   "outputs": [],
   "source": [
    "'''\n",
    "    print(dot_operation)  # wrong! no result\n",
    "    不是 no result 而是這種東西\n",
    "    (Pdb) dot_operation \n",
    "    <tf.Tensor 'MatMul:0' shape=(1, 1) dtype=int32>\n",
    "    (Pdb) n\n",
    "    Tensor(\"MatMul:0\", shape=(1, 1), dtype=int32)\n",
    "    (Pdb)    type(dot_operation)\n",
    "    <class 'tensorflow.python.framework.ops.Tensor'>   這種東西就是 tensor \n",
    "    (Pdb)    type(m1)\n",
    "    <class 'tensorflow.python.framework.ops.Tensor'>  # m1, m2 也都是 tensor \n",
    "    (Pdb) type(tf)\n",
    "    <class 'module'>\n",
    "    (Pdb) type(tf.matmul)\n",
    "    <class 'function'>\n",
    "    (Pdb)\n",
    "    我覺得，TensorFlow 是一台 Virtual Machine \n",
    "''';\n",
    "%f dot_operation tib.\n",
    "%f m1 tib.\n",
    "%f m2 tib.\n",
    "%f tf tib.\n"
   ]
  },
  {
   "cell_type": "code",
   "execution_count": null,
   "metadata": {},
   "outputs": [],
   "source": [
    "# method1 use session\n",
    "sess = tf.Session()  # 大寫的應該是 constructor\n",
    "# 取出 sess 來，準備去執行上面畫好了的 Graph. 只有一個 node 即 dot_operation. "
   ]
  },
  {
   "cell_type": "code",
   "execution_count": null,
   "metadata": {},
   "outputs": [],
   "source": [
    "%f sess tib.\n",
    "%f sess _dir_ tib."
   ]
  },
  {
   "cell_type": "code",
   "execution_count": null,
   "metadata": {},
   "outputs": [],
   "source": [
    "# 多跑幾次，結果一樣\n",
    "result = sess.run(dot_operation)\n",
    "%f result tib.\n",
    "\n",
    "# 一執行某個 node 就會引發連鎖反應去執行它所有的輸入。"
   ]
  },
  {
   "cell_type": "code",
   "execution_count": null,
   "metadata": {},
   "outputs": [],
   "source": [
    "# method2 use session\n",
    "with tf.Session() as sess:\n",
    "    result_ = sess.run(dot_operation)\n",
    "%f result_ tib."
   ]
  },
  {
   "cell_type": "markdown",
   "metadata": {},
   "source": [
    "參考 \"TensorFlow in a Nutshell （part One）\" 有另一種 session object 適合 jupyter notebook 單步執行式的使用環境。\n",
    "\n",
    "```\n",
    "sess = tf.InteractiveSession()\n",
    "a = tf.constant(1)\n",
    "b = tf.constant(2)\n",
    "c = a + b\n",
    "# instead of sess.run(c)\n",
    "c.eval()\n",
    "```\n",
    "\n",
    "隨便弄個 sess 出來，之後的 .eval() 就自動知道該用哪個 session 來 run 了。這有點奇怪，文章上簡單解釋了說： InteractiveSession allows so that you dont have to explicitly pass Session object."
   ]
  },
  {
   "cell_type": "code",
   "execution_count": null,
   "metadata": {},
   "outputs": [],
   "source": [
    "# 真的一跑就成功\n",
    "sess = tf.InteractiveSession()\n",
    "a = tf.constant(1)\n",
    "b = tf.constant(2)\n",
    "c = a + b\n",
    "# instead of sess.run(c)\n",
    "c.eval()"
   ]
  },
  {
   "cell_type": "code",
   "execution_count": null,
   "metadata": {},
   "outputs": [],
   "source": [
    "# 如果沒有上面這個 sess 先 created 則 tensor.eval() 會失敗因為 .eval() 裡面要求 session argument \n",
    "%f m1 :> eval() tib.\n",
    "%f m2 :> eval() tib.\n",
    "%f dot_operation :> eval() tib."
   ]
  },
  {
   "cell_type": "code",
   "execution_count": null,
   "metadata": {},
   "outputs": [],
   "source": [
    "# 如果沒有上面這個 sess 先 created 則 tensor.eval() 會失敗因為 .eval() 裡面要求 session argument \n",
    "%f m1 :> eval(session=sess) tib.\n",
    "%f m2 :> eval(session=sess) tib.\n",
    "%f dot_operation :> eval(session=sess) tib."
   ]
  },
  {
   "cell_type": "code",
   "execution_count": null,
   "metadata": {},
   "outputs": [],
   "source": [
    "# 嘗試一下用 with 來用 tf.Session 結果成功了\n",
    "with sess.as_default():\n",
    "    %f m1 :> eval() tib.\n",
    "    %f m2 :> eval() tib.\n",
    "    %f dot_operation :> eval() tib."
   ]
  },
  {
   "cell_type": "code",
   "execution_count": null,
   "metadata": {},
   "outputs": [],
   "source": [
    "sess.close()"
   ]
  }
 ],
 "metadata": {
  "kernelspec": {
   "display_name": "Python 3",
   "language": "python",
   "name": "python3"
  },
  "language_info": {
   "codemirror_mode": {
    "name": "ipython",
    "version": 3
   },
   "file_extension": ".py",
   "mimetype": "text/x-python",
   "name": "python",
   "nbconvert_exporter": "python",
   "pygments_lexer": "ipython3",
   "version": "3.6.0"
  }
 },
 "nbformat": 4,
 "nbformat_minor": 2
}
