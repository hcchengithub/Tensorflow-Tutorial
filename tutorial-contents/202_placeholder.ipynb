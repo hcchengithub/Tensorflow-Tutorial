{
 "cells": [
  {
   "cell_type": "markdown",
   "metadata": {},
   "source": [
    "# 介紹 tf.placeholder, session 可以一次 run 多個 op 的方法\n",
    "When I read \"TensorFlow in a Nutshell\" series article (Ynote: \"TensorFlow in a Nutshell — Part One Two Three–Camron's Blog\") I feel the need to review Morvan's tf. So I do it now but with jupyter notebook."
   ]
  },
  {
   "cell_type": "code",
   "execution_count": 1,
   "metadata": {},
   "outputs": [],
   "source": [
    "import peforth"
   ]
  },
  {
   "cell_type": "code",
   "execution_count": 2,
   "metadata": {},
   "outputs": [
    {
     "name": "stdout",
     "output_type": "stream",
     "text": [
      "reDef unknown\n"
     ]
    }
   ],
   "source": [
    "%%f if playing in jupyter notebook \n",
    "\\ Now we redefine the 'unknown' command that does nothing at default  \n",
    ": unknown ( token -- thing Y|N) // Try to find the unknown token in __main__\n",
    "  py> getattr(sys.modules['__main__'],pop(),\"Ûnknôwn\") \n",
    "  py> str(tos())==\"Ûnknôwn\" if drop false else true then ;\n",
    "  /// here after, when FORTH come accross an unknown token, instead of alerting \n",
    "  /// it try to find the token in python __main__ module name space.\n",
    ": path-to-find-modules ( <path> -- ) // Add path to sys.path so \"import module-name\" can find the module\n",
    "    CR word trim ( \"path\" ) py: sys.path.append(pop()) ;\n",
    "code # print(nexttoken('\\n')) end-code // Redefine \\ command to print the comment line \n"
   ]
  },
  {
   "cell_type": "code",
   "execution_count": 3,
   "metadata": {},
   "outputs": [],
   "source": [
    "\"\"\"\n",
    "Know more, visit my Python tutorial page: https://morvanzhou.github.io/tutorials/\n",
    "My Youtube Channel: https://www.youtube.com/user/MorvanZhou\n",
    "\n",
    "Dependencies:\n",
    "tensorflow: 1.1.0\n",
    "\"\"\"\n",
    "import tensorflow as tf"
   ]
  },
  {
   "cell_type": "code",
   "execution_count": 4,
   "metadata": {},
   "outputs": [],
   "source": [
    "x1 = tf.placeholder(dtype=tf.float32, shape=None, name='one')\n",
    "# name 只能這時候給, 然後就是 read-only 了. default 是 'placeholder:0', placeholder_1, _2...etc"
   ]
  },
  {
   "cell_type": "code",
   "execution_count": 5,
   "metadata": {},
   "outputs": [
    {
     "name": "stdout",
     "output_type": "stream",
     "text": [
      "x1 tib. \\ ==> Tensor(\"one:0\", dtype=float32) (<class 'tensorflow.python.framework.ops.Tensor'>)\n"
     ]
    }
   ],
   "source": [
    "%f x1 tib."
   ]
  },
  {
   "cell_type": "code",
   "execution_count": 6,
   "metadata": {},
   "outputs": [
    {
     "name": "stdout",
     "output_type": "stream",
     "text": [
      "y1 tib. \\ ==> Tensor(\"two:0\", dtype=float32) (<class 'tensorflow.python.framework.ops.Tensor'>)\n"
     ]
    }
   ],
   "source": [
    "y1 = tf.placeholder(dtype=tf.float32, shape=None, name='two')\n",
    "%f y1 tib."
   ]
  },
  {
   "cell_type": "code",
   "execution_count": 7,
   "metadata": {},
   "outputs": [
    {
     "name": "stdout",
     "output_type": "stream",
     "text": [
      "z1 tib. \\ ==> Tensor(\"add:0\", dtype=float32) (<class 'tensorflow.python.framework.ops.Tensor'>)\n",
      "z11 tib. \\ ==> Tensor(\"Add:0\", dtype=float32) (<class 'tensorflow.python.framework.ops.Tensor'>)\n"
     ]
    }
   ],
   "source": [
    "z1 = x1 + y1  # 這個 + 應該是 tf.add() 從 z1.name 是 'add:0' 可見得, 不如試試看? --> 果然!\n",
    "z11 = tf.add(x1, y1)  # 看看產生的東西跟上一行一不一樣? --> [x] z11.op 我看是一樣的\n",
    "%f z1 tib.\n",
    "%f z11 tib."
   ]
  },
  {
   "cell_type": "code",
   "execution_count": 8,
   "metadata": {},
   "outputs": [
    {
     "name": "stdout",
     "output_type": "stream",
     "text": [
      "x2 tib. \\ ==> Tensor(\"Placeholder:0\", shape=(2, 1), dtype=float32) (<class 'tensorflow.python.framework.ops.Tensor'>)\n",
      "y2 tib. \\ ==> Tensor(\"Placeholder_1:0\", shape=(1, 2), dtype=float32) (<class 'tensorflow.python.framework.ops.Tensor'>)\n",
      "z2 tib. \\ ==> Tensor(\"MatMul:0\", shape=(2, 2), dtype=float32) (<class 'tensorflow.python.framework.ops.Tensor'>)\n"
     ]
    }
   ],
   "source": [
    "# 上面 z1 是一個 op, 另做一個不相干的 op z2 以下示範執行時可以一次 sess.run() 好幾個 op  \n",
    "x2 = tf.placeholder(dtype=tf.float32, shape=[2, 1])\n",
    "y2 = tf.placeholder(dtype=tf.float32, shape=[1, 2])\n",
    "z2 = tf.matmul(x2, y2)\n",
    "%f x2 tib.\n",
    "%f y2 tib.\n",
    "%f z2 tib."
   ]
  },
  {
   "cell_type": "code",
   "execution_count": 15,
   "metadata": {},
   "outputs": [
    {
     "name": "stdout",
     "output_type": "stream",
     "text": [
      "z1_value tib. \\ ==> 3.0 (<class 'numpy.float32'>)\n",
      "z2_value tib. \\ ==> [[6. 6.]\n",
      " [6. 6.]] (<class 'numpy.ndarray'>)\n"
     ]
    }
   ],
   "source": [
    "with tf.Session() as sess:\n",
    "    # when only one operation to run\n",
    "    z1_value = sess.run(z1, feed_dict={x1: 1, y1: 2})\n",
    "\n",
    "    # when run multiple operations\n",
    "    z1_value, z2_value = sess.run(\n",
    "        [z1, z2],       # run them together\n",
    "        feed_dict={\n",
    "            x1: 1, y1: 2,\n",
    "            x2: [[2], [2]], y2: [[3, 3]]\n",
    "        })\n",
    "    # print(z1_value)\n",
    "    # print(z2_value)\n",
    "%f z1_value tib.\n",
    "%f z2_value tib."
   ]
  }
 ],
 "metadata": {
  "kernelspec": {
   "display_name": "Python 3",
   "language": "python",
   "name": "python3"
  },
  "language_info": {
   "codemirror_mode": {
    "name": "ipython",
    "version": 3
   },
   "file_extension": ".py",
   "mimetype": "text/x-python",
   "name": "python",
   "nbconvert_exporter": "python",
   "pygments_lexer": "ipython3",
   "version": "3.6.0"
  }
 },
 "nbformat": 4,
 "nbformat_minor": 2
}
