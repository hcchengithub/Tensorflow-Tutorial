{
 "cells": [
  {
   "cell_type": "markdown",
   "metadata": {},
   "source": [
    "# 把 tf 裡面若干 active functions 畫成圖形來看\n",
    "When I read \"TensorFlow in a Nutshell\" series article (Ynote: \"TensorFlow in a Nutshell — Part One Two Three–Camron's Blog\") I feel the need to review Morvan's tf. So I do it now but with jupyter notebook."
   ]
  },
  {
   "cell_type": "code",
   "execution_count": 6,
   "metadata": {},
   "outputs": [],
   "source": [
    "import peforth"
   ]
  },
  {
   "cell_type": "code",
   "execution_count": 7,
   "metadata": {},
   "outputs": [
    {
     "name": "stdout",
     "output_type": "stream",
     "text": [
      "reDef unknown\n"
     ]
    }
   ],
   "source": [
    "%%f if playing in jupyter notebook \n",
    "\\ Now we redefine the 'unknown' command that does nothing at default  \n",
    ": unknown ( token -- thing Y|N) // Try to find the unknown token in __main__\n",
    "  py> getattr(sys.modules['__main__'],pop(),\"Ûnknôwn\") \n",
    "  py> str(tos())==\"Ûnknôwn\" if drop false else true then ;\n",
    "  /// here after, when FORTH come accross an unknown token, instead of alerting \n",
    "  /// it try to find the token in python __main__ module name space.\n",
    ": path-to-find-modules ( <path> -- ) // Add path to sys.path so \"import module-name\" can find the module\n",
    "    CR word trim ( \"path\" ) py: sys.path.append(pop()) ;\n",
    "code # print(nexttoken('\\n')) end-code // Redefine \\ command to print the comment line \n"
   ]
  },
  {
   "cell_type": "code",
   "execution_count": 1,
   "metadata": {},
   "outputs": [],
   "source": [
    "\"\"\"\n",
    "Know more, visit my Python tutorial page: https://morvanzhou.github.io/tutorials/\n",
    "My Youtube Channel: https://www.youtube.com/user/MorvanZhou\n",
    "\n",
    "Dependencies:\n",
    "tensorflow: 1.1.0\n",
    "matplotlib\n",
    "\n",
    "把幾個 Activation Function 都畫了出來.\n",
    "\n",
    "\"\"\"\n",
    "import tensorflow as tf\n",
    "import numpy as np\n",
    "import matplotlib.pyplot as plt"
   ]
  },
  {
   "cell_type": "code",
   "execution_count": 11,
   "metadata": {},
   "outputs": [
    {
     "name": "stdout",
     "output_type": "stream",
     "text": [
      "x :> [:10] tib. \\ ==> [-5.         -4.94974874 -4.89949749 -4.84924623 -4.79899497 -4.74874372\n",
      " -4.69849246 -4.64824121 -4.59798995 -4.54773869] (<class 'numpy.ndarray'>)\n"
     ]
    }
   ],
   "source": [
    "# x-axis \n",
    "x = np.linspace(-5, 5, 200)     # x data, shape=(100, 1)\n",
    "%f x :> [:10] tib. \\ 看看前幾個 "
   ]
  },
  {
   "cell_type": "code",
   "execution_count": 16,
   "metadata": {},
   "outputs": [
    {
     "name": "stdout",
     "output_type": "stream",
     "text": [
      "y_relu tib. \\ ==> Tensor(\"Relu_5:0\", shape=(200,), dtype=float64) (<class 'tensorflow.python.framework.ops.Tensor'>)\n",
      "y_softplus tib. \\ ==> Tensor(\"Softplus_5:0\", shape=(200,), dtype=float64) (<class 'tensorflow.python.framework.ops.Tensor'>)\n"
     ]
    }
   ],
   "source": [
    "# following are popular activation functions\n",
    "y_relu = tf.nn.relu(x)\n",
    "y_sigmoid = tf.nn.sigmoid(x)\n",
    "y_tanh = tf.nn.tanh(x)\n",
    "y_softplus = tf.nn.softplus(x)\n",
    "# y_softmax = tf.nn.softmax(x)  # softmax is a special kind of\n",
    "                                # activation function, it is about probability\n",
    "%f y_relu tib.\n",
    "%f y_softplus tib."
   ]
  },
  {
   "cell_type": "code",
   "execution_count": 17,
   "metadata": {},
   "outputs": [
    {
     "name": "stdout",
     "output_type": "stream",
     "text": [
      "y_relu :> [-20:] tib. \\ ==> [4.04522613 4.09547739 4.14572864 4.1959799  4.24623116 4.29648241\n",
      " 4.34673367 4.39698492 4.44723618 4.49748744 4.54773869 4.59798995\n",
      " 4.64824121 4.69849246 4.74874372 4.79899497 4.84924623 4.89949749\n",
      " 4.94974874 5.        ] (<class 'numpy.ndarray'>)\n",
      "y_sigmoid :> [-20:] tib. \\ ==> [0.98279543 0.98362481 0.98441485 0.98516734 0.98588402 0.98656654\n",
      " 0.98721649 0.98783539 0.98842467 0.98898572 0.98951987 0.99002837\n",
      " 0.99051244 0.99097323 0.99141182 0.99182929 0.99222662 0.99260477\n",
      " 0.99296466 0.99330715] (<class 'numpy.ndarray'>)\n",
      "y_tanh :> [-20:] tib. \\ ==> [0.99938729 0.99944586 0.99949883 0.99954674 0.99959007 0.99962926\n",
      " 0.9996647  0.99969676 0.99972575 0.99975197 0.99977568 0.99979713\n",
      " 0.99981652 0.99983407 0.99984993 0.99986428 0.99987726 0.99988899\n",
      " 0.99989961 0.9999092 ] (<class 'numpy.ndarray'>)\n",
      "y_softplus :> [-20:] tib. \\ ==> [4.06258042 4.11198813 4.16143652 4.21092367 4.26044771 4.31000691\n",
      " 4.35959959 4.40922413 4.45887903 4.50856282 4.55827413 4.60801163\n",
      " 4.65777406 4.70756022 4.75736898 4.80719925 4.85704998 4.9069202\n",
      " 4.95680895 5.00671535] (<class 'numpy.ndarray'>)\n"
     ]
    }
   ],
   "source": [
    "sess = tf.Session()\n",
    "y_relu, y_sigmoid, y_tanh, y_softplus = sess.run([y_relu, y_sigmoid, y_tanh, y_softplus])\n",
    "    # 前幾課 202 placeholder 處講過用 tf.assign() 來佈線做成回路。\n",
    "    # 這裡 run 完又塞給自己，因為 y_relu 本來是 op 之後就變成 array 不能再跑了。\n",
    "\n",
    "%f y_relu :> [-20:] tib.\n",
    "%f y_sigmoid :> [-20:] tib.\n",
    "%f y_tanh :> [-20:] tib.\n",
    "%f y_softplus :> [-20:] tib.\n"
   ]
  },
  {
   "cell_type": "code",
   "execution_count": 2,
   "metadata": {},
   "outputs": [
    {
     "data": {
      "image/png": "[encoded data removed]",
      "text/plain": [
       "<matplotlib.figure.Figure at 0x1c6cd094f98>"
      ]
     },
     "metadata": {},
     "output_type": "display_data"
    },
    {
     "data": {
      "image/png": "[encoded data removed]",
      "text/plain": [
       "<matplotlib.figure.Figure at 0x1c6cf130cf8>"
      ]
     },
     "metadata": {},
     "output_type": "display_data"
    }
   ],
   "source": [
    "# 試試最簡式, 沒錯, 就這樣, 其他都是周邊的東西.\n",
    "plt.plot(x, y_relu)\n",
    "plt.show()\n",
    "\n",
    "# plt to visualize these activation function\n",
    "plt.figure(1, figsize=(8, 6))\n",
    "plt.subplot(221)\n",
    "plt.plot(x, y_relu, c='red', label='relu')\n",
    "plt.ylim((-1, 5))\n",
    "plt.legend(loc='best')\n",
    "\n",
    "plt.subplot(222)\n",
    "plt.plot(x, y_sigmoid, c='red', label='sigmoid')\n",
    "plt.ylim((-0.2, 1.2))\n",
    "plt.legend(loc='best')\n",
    "\n",
    "plt.subplot(223)\n",
    "plt.plot(x, y_tanh, c='red', label='tanh')\n",
    "plt.ylim((-1.2, 1.2))\n",
    "plt.legend(loc='best')\n",
    "\n",
    "plt.subplot(224)\n",
    "plt.plot(x, y_softplus, c='red', label='softplus')\n",
    "plt.ylim((-0.2, 6))\n",
    "plt.legend(loc='best')\n",
    "\n",
    "plt.show()"
   ]
  }
 ],
 "metadata": {
  "kernelspec": {
   "display_name": "Python 3",
   "language": "python",
   "name": "python3"
  },
  "language_info": {
   "codemirror_mode": {
    "name": "ipython",
    "version": 3
   },
   "file_extension": ".py",
   "mimetype": "text/x-python",
   "name": "python",
   "nbconvert_exporter": "python",
   "pygments_lexer": "ipython3",
   "version": "3.6.0"
  }
 },
 "nbformat": 4,
 "nbformat_minor": 2
}
